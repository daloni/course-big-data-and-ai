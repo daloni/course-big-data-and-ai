{
  "cells": [
    {
      "cell_type": "markdown",
      "id": "8448f564-35e1-4400-8e1c-d99735ca6749",
      "metadata": {
        "id": "8448f564-35e1-4400-8e1c-d99735ca6749"
      },
      "source": [
        "# Queens Problem\n",
        "\n",
        "### importem llibreries que utilitzarem i definim variables globals\n"
      ]
    },
    {
      "cell_type": "code",
      "execution_count": 2,
      "id": "7e71e39a-7d45-4d5c-a219-6ca99dec4cf1",
      "metadata": {
        "id": "7e71e39a-7d45-4d5c-a219-6ca99dec4cf1"
      },
      "outputs": [],
      "source": [
        "import numpy as np\n",
        "import random\n",
        "\n",
        "INITIAL_POPULATION = 10\n",
        "BOARD_SIZE = 8\n",
        "MUTATION_CHANCE = 0.1"
      ]
    },
    {
      "cell_type": "markdown",
      "id": "10fb9abc-bf8b-495f-acd2-7373b54171d2",
      "metadata": {
        "id": "10fb9abc-bf8b-495f-acd2-7373b54171d2"
      },
      "source": [
        "### Definir Agent, població i display"
      ]
    },
    {
      "cell_type": "code",
      "execution_count": 3,
      "id": "4a5d0158-eda9-4551-b13c-568e09fdfcc4",
      "metadata": {
        "colab": {
          "base_uri": "https://localhost:8080/"
        },
        "id": "4a5d0158-eda9-4551-b13c-568e09fdfcc4",
        "outputId": "c6f8727d-8309-481a-d103-335b4bc62940"
      },
      "outputs": [
        {
          "name": "stdout",
          "output_type": "stream",
          "text": [
            "[0, 0, 0, 1, 0, 0, 0, 0]\n",
            "[0, 1, 0, 0, 0, 0, 0, 0]\n",
            "[0, 0, 0, 0, 1, 0, 0, 0]\n",
            "[0, 0, 0, 0, 0, 0, 0, 1]\n",
            "[1, 0, 0, 0, 0, 0, 0, 0]\n",
            "[0, 0, 0, 0, 0, 0, 1, 0]\n",
            "[0, 0, 1, 0, 0, 0, 0, 0]\n",
            "[0, 0, 0, 0, 0, 1, 0, 0]\n"
          ]
        }
      ],
      "source": [
        "def init_agent(board_size):\n",
        "    return random.sample(range(board_size), board_size)\n",
        "\n",
        "def display_agent(agent):\n",
        "    for queenPosition in agent:\n",
        "        result = []\n",
        "\n",
        "        for el in range(len(agent)):\n",
        "            result.append(1 if el == queenPosition else 0)\n",
        "\n",
        "        print(result)\n",
        "\n",
        "def init_population(initial_population_size, board_size):\n",
        "    return [init_agent(board_size) for _ in range(initial_population_size)]\n",
        "\n",
        "\n",
        "_population = init_population(INITIAL_POPULATION, BOARD_SIZE)\n",
        "_agent = _population[0]\n",
        "assert BOARD_SIZE == len(_agent)\n",
        "assert INITIAL_POPULATION == len(_population)\n",
        "display_agent(_agent)\n",
        "# assert BOARD_SIZE*BOARD_SIZE == len(display_agent(_agent))"
      ]
    },
    {
      "cell_type": "markdown",
      "id": "bea5aa31-863f-49b2-b04a-30c1cf3b6ed7",
      "metadata": {
        "id": "bea5aa31-863f-49b2-b04a-30c1cf3b6ed7"
      },
      "source": [
        "### definir crossover"
      ]
    },
    {
      "cell_type": "code",
      "execution_count": 4,
      "id": "2ced517d-25bd-48b9-9ca0-ef06c5a0634c",
      "metadata": {
        "colab": {
          "base_uri": "https://localhost:8080/"
        },
        "id": "2ced517d-25bd-48b9-9ca0-ef06c5a0634c",
        "outputId": "befacb41-6f53-470b-b1ad-088f5536d675"
      },
      "outputs": [
        {
          "name": "stdout",
          "output_type": "stream",
          "text": [
            "[3, 1, 4, 7, 0, 6, 2, 5]\n",
            "[2, 3, 6, 4, 0, 5, 1, 7]\n",
            "[3, 1, 4, 5, 0, 6, 2, 7]\n"
          ]
        }
      ],
      "source": [
        "def crossover(parent1, parent2):\n",
        "    board_size = len(parent1)\n",
        "\n",
        "    crossover_point = random.randint(1, board_size - 1)\n",
        "    child = parent1[:crossover_point] + parent2[crossover_point:]\n",
        "\n",
        "    # Remove duplicates\n",
        "    unique_values = set(child)\n",
        "    all_values = set(range(board_size))\n",
        "    missing_values = list(all_values - unique_values)\n",
        "\n",
        "    for i in range(board_size):\n",
        "        if child.count(child[i]) > 1:\n",
        "            child[i] = missing_values.pop(0)\n",
        "\n",
        "    return child\n",
        "\n",
        "child = crossover(_population[0], _population[1])\n",
        "print(_population[0])\n",
        "print(_population[1])\n",
        "print(child)"
      ]
    },
    {
      "cell_type": "markdown",
      "id": "35d86c53-bc6e-4241-98a7-2c45a4729c39",
      "metadata": {
        "id": "35d86c53-bc6e-4241-98a7-2c45a4729c39"
      },
      "source": [
        "### definir mutació\n"
      ]
    },
    {
      "cell_type": "code",
      "execution_count": 5,
      "id": "aa4e906a-bc48-474f-9420-ad4e5f35cd95",
      "metadata": {
        "colab": {
          "base_uri": "https://localhost:8080/"
        },
        "id": "aa4e906a-bc48-474f-9420-ad4e5f35cd95",
        "outputId": "acc32b76-750c-4e0a-bd9d-df9db6fbe174"
      },
      "outputs": [
        {
          "name": "stdout",
          "output_type": "stream",
          "text": [
            "[3, 1, 4, 7, 0, 6, 2, 5]\n",
            "[3, 1, 4, 7, 0, 6, 2, 5]\n"
          ]
        }
      ],
      "source": [
        "def mutation(agent):\n",
        "    pos1, pos2 = random.sample(range(len(agent)), 2)\n",
        "    agent[pos1], agent[pos2] = agent[pos2], agent[pos1]\n",
        "    return agent\n",
        "\n",
        "def mutation_with_chance(agent, mutation_chance):\n",
        "    if random.random() < mutation_chance:\n",
        "        return mutation(agent)\n",
        "\n",
        "    return agent\n",
        "\n",
        "_agentCopy = _agent.copy()\n",
        "print(mutation_with_chance(_agentCopy, 0.1))\n",
        "print(_agent)"
      ]
    },
    {
      "cell_type": "markdown",
      "id": "1eb0be7a-7aa3-42f2-83f9-b724cd88ec75",
      "metadata": {
        "id": "1eb0be7a-7aa3-42f2-83f9-b724cd88ec75"
      },
      "source": [
        "### definir crossover de tota la població amb mutació"
      ]
    },
    {
      "cell_type": "code",
      "execution_count": 6,
      "id": "36de1291-096a-4204-ae97-802a8574d4a1",
      "metadata": {
        "colab": {
          "base_uri": "https://localhost:8080/"
        },
        "id": "36de1291-096a-4204-ae97-802a8574d4a1",
        "outputId": "175b41b8-1a67-4bb6-e4f0-a4b8e5cf96ad"
      },
      "outputs": [
        {
          "data": {
            "text/plain": [
              "[[4, 2, 0, 5, 3, 1, 7, 6],\n",
              " [4, 2, 6, 1, 7, 3, 0, 5],\n",
              " [4, 1, 3, 7, 0, 6, 2, 5],\n",
              " [3, 0, 2, 4, 6, 1, 7, 5],\n",
              " [2, 1, 4, 6, 7, 3, 0, 5],\n",
              " [4, 2, 6, 1, 7, 0, 3, 5],\n",
              " [1, 6, 0, 4, 3, 2, 5, 7],\n",
              " [2, 3, 6, 4, 0, 5, 1, 7],\n",
              " [2, 4, 6, 1, 7, 3, 0, 5],\n",
              " [2, 3, 1, 4, 0, 5, 7, 6]]"
            ]
          },
          "execution_count": 6,
          "metadata": {},
          "output_type": "execute_result"
        }
      ],
      "source": [
        "def replicate(population, mutation_chance):\n",
        "    new_population = []\n",
        "    population_size = len(population)\n",
        "\n",
        "    # Generate childs\n",
        "    for _ in range(population_size // 2):\n",
        "        parent1, parent2 = random.sample(population, 2)\n",
        "\n",
        "        child1 = crossover(parent1, parent2)\n",
        "        child2 = crossover(parent2, parent1)\n",
        "\n",
        "        child1 = mutation_with_chance(child1, mutation_chance)\n",
        "        child2 = mutation_with_chance(child2, mutation_chance)\n",
        "\n",
        "        new_population.append(child1)\n",
        "        new_population.append(child2)\n",
        "\n",
        "    # Generate one more child if is necesary\n",
        "    if population_size % 2 == 1:\n",
        "        parent1, parent2 = random.sample(population, 2)\n",
        "        child = crossover(parent1, parent2)\n",
        "        child = mutation_with_chance(child, mutation_chance)\n",
        "        new_population.append(child)\n",
        "\n",
        "    # Return same size that population input\n",
        "    return random.sample(new_population, population_size)\n",
        "\n",
        "replicate(_population, MUTATION_CHANCE)\n"
      ]
    },
    {
      "cell_type": "markdown",
      "id": "616dbe98-22ac-4a89-8f75-00ba12c44a5d",
      "metadata": {
        "id": "616dbe98-22ac-4a89-8f75-00ba12c44a5d"
      },
      "source": [
        "### definir fitness function\n",
        "\n",
        "mirar diagonals i treure repetides"
      ]
    },
    {
      "cell_type": "code",
      "execution_count": 7,
      "id": "66163304-e8d5-4c87-ae68-e3c62505f93b",
      "metadata": {
        "colab": {
          "base_uri": "https://localhost:8080/"
        },
        "id": "66163304-e8d5-4c87-ae68-e3c62505f93b",
        "outputId": "482529a3-a16b-441f-d476-3046d4c7d05f"
      },
      "outputs": [
        {
          "name": "stdout",
          "output_type": "stream",
          "text": [
            "[0, 0, 0, 1, 0, 0, 0, 0]\n",
            "[0, 1, 0, 0, 0, 0, 0, 0]\n",
            "[0, 0, 0, 0, 1, 0, 0, 0]\n",
            "[0, 0, 0, 0, 0, 0, 0, 1]\n",
            "[1, 0, 0, 0, 0, 0, 0, 0]\n",
            "[0, 0, 0, 0, 0, 0, 1, 0]\n",
            "[0, 0, 1, 0, 0, 0, 0, 0]\n",
            "[0, 0, 0, 0, 0, 1, 0, 0]\n",
            "1\n"
          ]
        }
      ],
      "source": [
        "def fitness_agent(agent):\n",
        "    conflicts = 0\n",
        "    for i in range(len(agent)):\n",
        "        for j in range(i + 1, len(agent)):\n",
        "            if abs(agent[i] - agent[j]) == j - i:\n",
        "                conflicts += 1\n",
        "    return conflicts\n",
        "\n",
        "def fitness_population(population):\n",
        "    return [fitness_agent(agent) for agent in population]\n",
        "\n",
        "display_agent(_agent)\n",
        "print(fitness_agent(_agent))\n",
        "assert fitness_agent(_agent) <= BOARD_SIZE"
      ]
    },
    {
      "cell_type": "markdown",
      "id": "56c5cdb9-8643-4977-ae24-ad7d0803b5ee",
      "metadata": {
        "id": "56c5cdb9-8643-4977-ae24-ad7d0803b5ee"
      },
      "source": [
        "### Population Selection (by score)\n"
      ]
    },
    {
      "cell_type": "code",
      "execution_count": 8,
      "id": "7546660e-f015-4d28-afc2-d0b8f18ec13b",
      "metadata": {
        "colab": {
          "base_uri": "https://localhost:8080/"
        },
        "id": "7546660e-f015-4d28-afc2-d0b8f18ec13b",
        "outputId": "7b4e7661-5100-420c-d87e-04457c521d76"
      },
      "outputs": [
        {
          "name": "stdout",
          "output_type": "stream",
          "text": [
            "[[3, 1, 4, 7, 0, 6, 2, 5], [3, 0, 2, 4, 6, 1, 7, 5], [1, 7, 4, 3, 6, 0, 5, 2], [4, 2, 0, 5, 3, 1, 7, 6], [2, 3, 6, 4, 0, 5, 1, 7], [7, 2, 6, 4, 1, 0, 3, 5], [1, 0, 4, 7, 2, 5, 3, 6], [4, 7, 2, 5, 0, 6, 1, 3]]\n",
            "[[3, 1, 4, 7, 0, 6, 2, 5], [2, 3, 6, 4, 0, 5, 1, 7], [7, 2, 6, 4, 1, 0, 3, 5], [4, 7, 2, 5, 0, 6, 1, 3], [4, 2, 6, 1, 7, 3, 0, 5], [1, 0, 4, 7, 2, 5, 3, 6], [1, 7, 4, 3, 6, 0, 5, 2], [3, 0, 2, 4, 6, 1, 7, 5], [0, 1, 6, 4, 3, 2, 5, 7], [4, 2, 0, 5, 3, 1, 7, 6]]\n"
          ]
        }
      ],
      "source": [
        "def sort_population(population, fitness_list):\n",
        "    paired = list(zip(population, fitness_list))\n",
        "    sorted_paired = sorted(paired, key=lambda x: x[1], reverse=False)\n",
        "    return [x[0] for x in sorted_paired]\n",
        "\n",
        "def select_population(population, fitness_list, population_size):\n",
        "    sorted_population = sort_population(population, fitness_list)\n",
        "    return sorted_population[:population_size]\n",
        "\n",
        "print(select_population(_population, fitness_population(_population), BOARD_SIZE))\n",
        "print(_population)"
      ]
    },
    {
      "cell_type": "markdown",
      "id": "625d470e-2ff7-4b13-aa11-2b2d7bf6ad03",
      "metadata": {
        "id": "625d470e-2ff7-4b13-aa11-2b2d7bf6ad03"
      },
      "source": [
        "### definir main\n",
        "\n",
        "(seguir els pasos de classe)"
      ]
    },
    {
      "cell_type": "code",
      "execution_count": 9,
      "id": "8923523c-03a6-4390-9892-8823c4368754",
      "metadata": {
        "id": "8923523c-03a6-4390-9892-8823c4368754"
      },
      "outputs": [],
      "source": [
        "def main(population_size, board_size, mutation_chance):\n",
        "    population = init_population(population_size, board_size)\n",
        "    generation = 0\n",
        "\n",
        "    while True:\n",
        "        fitness_list = fitness_population(population)\n",
        "        best_fitness = min(fitness_list)\n",
        "        best_agent = population[fitness_list.index(best_fitness)]\n",
        "\n",
        "        if generation % 100 == 0:\n",
        "            print(f\"Population {generation}: {best_fitness}\")\n",
        "\n",
        "        if best_fitness == 0:\n",
        "            print(f\"Solución óptima encontrada en la generación {generation}: {best_agent}\")\n",
        "            break\n",
        "\n",
        "        new_population = replicate(population, mutation_chance)\n",
        "        new_fitness_list = fitness_population(new_population)\n",
        "\n",
        "        combined_population = population + new_population\n",
        "        combined_fitness_list = fitness_list + new_fitness_list\n",
        "        selected_population = select_population(combined_population, combined_fitness_list, population_size)\n",
        "\n",
        "        population = selected_population\n",
        "        generation += 1\n",
        "\n",
        "    return best_agent"
      ]
    },
    {
      "cell_type": "markdown",
      "id": "59e2b56a-9ff9-44cb-a484-146b76ffaf1f",
      "metadata": {
        "id": "59e2b56a-9ff9-44cb-a484-146b76ffaf1f"
      },
      "source": [
        "### Provar el codi"
      ]
    },
    {
      "cell_type": "code",
      "execution_count": 10,
      "id": "5a89a6d1-22ff-43f4-ae92-6cbf19746e73",
      "metadata": {
        "colab": {
          "base_uri": "https://localhost:8080/"
        },
        "id": "5a89a6d1-22ff-43f4-ae92-6cbf19746e73",
        "outputId": "10a66019-9f0b-4109-9cef-811b39e58f0b"
      },
      "outputs": [
        {
          "name": "stdout",
          "output_type": "stream",
          "text": [
            "Population 0: 48\n"
          ]
        }
      ],
      "source": [
        "POPULATION_SIZE = 100\n",
        "BOARD_SIZE = 100\n",
        "MUTATION_CHANCE = 0.2\n",
        "\n",
        "agent = main(POPULATION_SIZE, BOARD_SIZE, MUTATION_CHANCE)\n",
        "display_agent(agent)"
      ]
    },
    {
      "cell_type": "code",
      "execution_count": 48,
      "id": "940ffe9a",
      "metadata": {
        "id": "940ffe9a"
      },
      "outputs": [],
      "source": []
    }
  ],
  "metadata": {
    "colab": {
      "provenance": []
    },
    "kernelspec": {
      "display_name": "Python 3 (ipykernel)",
      "language": "python",
      "name": "python3"
    },
    "language_info": {
      "codemirror_mode": {
        "name": "ipython",
        "version": 3
      },
      "file_extension": ".py",
      "mimetype": "text/x-python",
      "name": "python",
      "nbconvert_exporter": "python",
      "pygments_lexer": "ipython3",
      "version": "3.10.12"
    }
  },
  "nbformat": 4,
  "nbformat_minor": 5
}
