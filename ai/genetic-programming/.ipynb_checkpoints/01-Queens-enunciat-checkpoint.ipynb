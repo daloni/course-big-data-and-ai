{
 "cells": [
  {
   "cell_type": "markdown",
   "id": "8448f564-35e1-4400-8e1c-d99735ca6749",
   "metadata": {},
   "source": [
    "# Queens Problem\n",
    "\n",
    "### importem llibreries que utilitzarem i definim variables globals\n"
   ]
  },
  {
   "cell_type": "code",
   "execution_count": 1,
   "id": "7e71e39a-7d45-4d5c-a219-6ca99dec4cf1",
   "metadata": {},
   "outputs": [],
   "source": [
    "import numpy as np\n",
    "import random\n",
    "\n",
    "INITIAL_POPULATION = 10\n",
    "BOARD_SIZE = 8\n",
    "MUTATION_CHANCE = 0.1"
   ]
  },
  {
   "cell_type": "markdown",
   "id": "10fb9abc-bf8b-495f-acd2-7373b54171d2",
   "metadata": {},
   "source": [
    "### Definir Agent, població i display"
   ]
  },
  {
   "cell_type": "code",
   "execution_count": 14,
   "id": "4a5d0158-eda9-4551-b13c-568e09fdfcc4",
   "metadata": {},
   "outputs": [],
   "source": [
    "def init_agent(board_size):\n",
    "    pass\n",
    "\n",
    "def display_agent(agent):\n",
    "    pass\n",
    "\n",
    "def init_population(initial_population_size, board_size):\n",
    "    pass\n",
    "\n",
    "\n",
    "\n",
    "\n",
    "_population = init_population(INITIAL_POPULATION, BOARD_SIZE)\n",
    "_agent = _population[0]\n",
    "assert BOARD_SIZE == len(_agent)\n",
    "assert INITIAL_POPULATION == len(_population)\n",
    "assert BOARD_SIZE*BOARD_SIZE == display_agent(_agent).size"
   ]
  },
  {
   "cell_type": "markdown",
   "id": "bea5aa31-863f-49b2-b04a-30c1cf3b6ed7",
   "metadata": {},
   "source": [
    "### definir crossover"
   ]
  },
  {
   "cell_type": "code",
   "execution_count": 18,
   "id": "2ced517d-25bd-48b9-9ca0-ef06c5a0634c",
   "metadata": {},
   "outputs": [],
   "source": [
    "def crossover(parent1, parent2):\n",
    "    pass\n",
    "\n"
   ]
  },
  {
   "cell_type": "markdown",
   "id": "35d86c53-bc6e-4241-98a7-2c45a4729c39",
   "metadata": {},
   "source": [
    "### definir mutació\n"
   ]
  },
  {
   "cell_type": "code",
   "execution_count": null,
   "id": "aa4e906a-bc48-474f-9420-ad4e5f35cd95",
   "metadata": {},
   "outputs": [],
   "source": [
    "def mutation(agent):\n",
    "    pass\n",
    "\n",
    "def mutation_with_chance(agent, mutation_chance):\n",
    "    pass\n"
   ]
  },
  {
   "cell_type": "markdown",
   "id": "1eb0be7a-7aa3-42f2-83f9-b724cd88ec75",
   "metadata": {},
   "source": [
    "### definir crossover de tota la població amb mutació"
   ]
  },
  {
   "cell_type": "code",
   "execution_count": 17,
   "id": "36de1291-096a-4204-ae97-802a8574d4a1",
   "metadata": {},
   "outputs": [],
   "source": [
    "def replicate(population, mutation_chance):\n",
    "    pass"
   ]
  },
  {
   "cell_type": "markdown",
   "id": "616dbe98-22ac-4a89-8f75-00ba12c44a5d",
   "metadata": {},
   "source": [
    "### definir fitness function\n",
    "\n",
    "mirar diagonals i treure repetides"
   ]
  },
  {
   "cell_type": "code",
   "execution_count": 16,
   "id": "66163304-e8d5-4c87-ae68-e3c62505f93b",
   "metadata": {},
   "outputs": [
    {
     "ename": "TypeError",
     "evalue": "'<=' not supported between instances of 'NoneType' and 'int'",
     "output_type": "error",
     "traceback": [
      "\u001b[0;31m---------------------------------------------------------------------------\u001b[0m",
      "\u001b[0;31mTypeError\u001b[0m                                 Traceback (most recent call last)",
      "Cell \u001b[0;32mIn [16], line 8\u001b[0m\n\u001b[1;32m      4\u001b[0m \u001b[38;5;28;01mdef\u001b[39;00m \u001b[38;5;21mfitness_population\u001b[39m(population):\n\u001b[1;32m      5\u001b[0m     \u001b[38;5;28;01mpass\u001b[39;00m\n\u001b[0;32m----> 8\u001b[0m \u001b[38;5;28;01massert\u001b[39;00m fitness_agent(_agent) \u001b[38;5;241m<\u001b[39m\u001b[38;5;241m=\u001b[39m BOARD_SIZE\n",
      "\u001b[0;31mTypeError\u001b[0m: '<=' not supported between instances of 'NoneType' and 'int'"
     ]
    }
   ],
   "source": [
    "def fitness_agent(agent):\n",
    "    pass\n",
    "\n",
    "def fitness_population(population):\n",
    "    pass\n",
    "\n",
    "\n",
    "assert fitness_agent(_agent) <= BOARD_SIZE"
   ]
  },
  {
   "cell_type": "markdown",
   "id": "56c5cdb9-8643-4977-ae24-ad7d0803b5ee",
   "metadata": {},
   "source": [
    "### Population Selection (by score)\n"
   ]
  },
  {
   "cell_type": "code",
   "execution_count": null,
   "id": "7546660e-f015-4d28-afc2-d0b8f18ec13b",
   "metadata": {},
   "outputs": [],
   "source": [
    "def sort_population(population, fitness_list):\n",
    "    pass\n",
    "\n",
    "def select_population(population, fitness_list, population_size):\n",
    "    pass\n",
    "\n"
   ]
  },
  {
   "cell_type": "markdown",
   "id": "625d470e-2ff7-4b13-aa11-2b2d7bf6ad03",
   "metadata": {},
   "source": [
    "### definir main\n",
    "\n",
    "(seguir els pasos de classe)"
   ]
  },
  {
   "cell_type": "code",
   "execution_count": 19,
   "id": "8923523c-03a6-4390-9892-8823c4368754",
   "metadata": {},
   "outputs": [],
   "source": [
    "def main():\n",
    "    # init\n",
    "    \n",
    "    # while\n",
    "        # replicate\n",
    "        # fitness\n",
    "        # sort + select\n",
    "        # new gen\n",
    "        \n",
    "    pass"
   ]
  },
  {
   "cell_type": "markdown",
   "id": "59e2b56a-9ff9-44cb-a484-146b76ffaf1f",
   "metadata": {},
   "source": [
    "### Provar el codi"
   ]
  },
  {
   "cell_type": "code",
   "execution_count": null,
   "id": "5a89a6d1-22ff-43f4-ae92-6cbf19746e73",
   "metadata": {},
   "outputs": [],
   "source": [
    "POPULATION_SIZE = 100\n",
    "BOARD_SIZE = 20\n",
    "MUTATION_CHANCE = 0.1\n",
    "\n",
    "agent = main(POPULATION_SIZE, BOARD_SIZE, MUTATION_CHANCE)\n",
    "display_agent(agent)"
   ]
  }
 ],
 "metadata": {
  "kernelspec": {
   "display_name": "Python 3 (ipykernel)",
   "language": "python",
   "name": "python3"
  },
  "language_info": {
   "codemirror_mode": {
    "name": "ipython",
    "version": 3
   },
   "file_extension": ".py",
   "mimetype": "text/x-python",
   "name": "python",
   "nbconvert_exporter": "python",
   "pygments_lexer": "ipython3",
   "version": "3.10.12"
  }
 },
 "nbformat": 4,
 "nbformat_minor": 5
}
