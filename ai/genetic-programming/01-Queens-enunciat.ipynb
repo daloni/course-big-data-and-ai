{
 "cells": [
  {
   "cell_type": "markdown",
   "id": "8448f564-35e1-4400-8e1c-d99735ca6749",
   "metadata": {},
   "source": [
    "# Queens Problem\n",
    "\n",
    "### importem llibreries que utilitzarem i definim variables globals\n"
   ]
  },
  {
   "cell_type": "code",
   "execution_count": 7,
   "id": "7e71e39a-7d45-4d5c-a219-6ca99dec4cf1",
   "metadata": {},
   "outputs": [],
   "source": [
    "import numpy as np\n",
    "import random\n",
    "\n",
    "INITIAL_POPULATION = 5\n",
    "BOARD_SIZE = 4\n",
    "MUTATION_CHANCE = 0.1"
   ]
  },
  {
   "cell_type": "markdown",
   "id": "10fb9abc-bf8b-495f-acd2-7373b54171d2",
   "metadata": {},
   "source": [
    "### Definir Agent, població i display"
   ]
  },
  {
   "cell_type": "code",
   "execution_count": 42,
   "id": "4a5d0158-eda9-4551-b13c-568e09fdfcc4",
   "metadata": {},
   "outputs": [],
   "source": [
    "def init_board(board_size):\n",
    "    return [[0 for col in range(board_size)] for row in range(board_size)]\n",
    "\n",
    "def init_agent(board_size):\n",
    "    board = init_board(board_size)\n",
    "    pickedPositions = [y for y in range(0, board_size)]\n",
    "\n",
    "    for i in range(board_size):\n",
    "        choice = random.choice(pickedPositions)\n",
    "        pickedPositions.remove(choice)\n",
    "        board[i][choice] = 1\n",
    "\n",
    "    return board\n",
    "\n",
    "def find_agent_column(agent, col):\n",
    "    for index, i in enumerate(agent):\n",
    "        if agent[index][col] == 1:\n",
    "            return index\n",
    "\n",
    "def display_agent(agent):\n",
    "    result = []\n",
    "\n",
    "    for index, i in enumerate(agent):\n",
    "        result.append(find_agent_column(agent, index))\n",
    "\n",
    "    return result\n",
    "\n",
    "def init_population(initial_population_size, board_size):\n",
    "    population = []\n",
    "\n",
    "    for i in range(initial_population_size):\n",
    "        population.append(init_agent(board_size))\n",
    "\n",
    "    return population\n",
    "\n",
    "\n",
    "_population = init_population(INITIAL_POPULATION, BOARD_SIZE)\n",
    "_agent = _population[0]\n",
    "assert BOARD_SIZE == len(_agent)\n",
    "assert INITIAL_POPULATION == len(_population)\n",
    "assert BOARD_SIZE == len(display_agent(_agent))\n",
    "#assert BOARD_SIZE*BOARD_SIZE == len(display_agent(_agent))"
   ]
  },
  {
   "cell_type": "markdown",
   "id": "bea5aa31-863f-49b2-b04a-30c1cf3b6ed7",
   "metadata": {},
   "source": [
    "### definir crossover"
   ]
  },
  {
   "cell_type": "code",
   "execution_count": 285,
   "id": "2ced517d-25bd-48b9-9ca0-ef06c5a0634c",
   "metadata": {},
   "outputs": [
    {
     "name": "stdout",
     "output_type": "stream",
     "text": [
      "[[0, 1, 0, 0], [0, 0, 1, 0], [0, 0, 0, 1], [1, 0, 0, 0]]\n",
      "[[0, 0, 1, 0], [0, 1, 0, 0], [1, 0, 0, 0], [0, 0, 0, 1]]\n",
      "[[0, 1, 0, 0], [0, 1, 0, 0], [1, 0, 0, 0], [0, 0, 0, 1]]\n"
     ]
    }
   ],
   "source": [
    "def crossover(parent1, parent2):\n",
    "    agentLength = len(parent1)\n",
    "    crossover_point = random.randint(0, agentLength)\n",
    "    return parent1[:crossover_point] + parent2[crossover_point:]\n",
    "\n",
    "child = crossover(_population[0], _population[1])\n",
    "print(_population[0])\n",
    "print(_population[1])\n",
    "print(child)\n"
   ]
  },
  {
   "cell_type": "markdown",
   "id": "35d86c53-bc6e-4241-98a7-2c45a4729c39",
   "metadata": {},
   "source": [
    "### definir mutació\n"
   ]
  },
  {
   "cell_type": "code",
   "execution_count": 289,
   "id": "aa4e906a-bc48-474f-9420-ad4e5f35cd95",
   "metadata": {},
   "outputs": [
    {
     "name": "stdout",
     "output_type": "stream",
     "text": [
      "[[1, 0, 0, 0], [0, 0, 1, 0], [0, 0, 0, 1], [0, 1, 0, 0]]\n",
      "[[0, 1, 0, 0], [0, 0, 1, 0], [0, 0, 0, 1], [1, 0, 0, 0]]\n"
     ]
    }
   ],
   "source": [
    "def mutation(agent):\n",
    "    newAgent = agent.copy()\n",
    "    pos1, pos2 = random.sample(range(len(newAgent)), 2)\n",
    "    newAgent[pos1], newAgent[pos2] = newAgent[pos2], newAgent[pos1]\n",
    "    return newAgent\n",
    "\n",
    "def mutation_with_chance(agent, mutation_chance):\n",
    "    hasMutation = random.randrange(100) <= (mutation_chance * 100)\n",
    "\n",
    "    if not hasMutation:\n",
    "        return agent\n",
    "\n",
    "    return mutation(agent)\n",
    "\n",
    "print(mutation_with_chance(_agent, MUTATION_CHANCE))\n",
    "print(_agent)"
   ]
  },
  {
   "cell_type": "markdown",
   "id": "1eb0be7a-7aa3-42f2-83f9-b724cd88ec75",
   "metadata": {},
   "source": [
    "### definir crossover de tota la població amb mutació"
   ]
  },
  {
   "cell_type": "code",
   "execution_count": 309,
   "id": "36de1291-096a-4204-ae97-802a8574d4a1",
   "metadata": {},
   "outputs": [
    {
     "data": {
      "text/plain": [
       "[[[0, 1, 0, 0], [0, 0, 1, 0], [0, 0, 0, 1], [1, 0, 0, 0]],\n",
       " [[0, 0, 1, 0], [0, 1, 0, 0], [1, 0, 0, 0], [0, 0, 0, 1]],\n",
       " [[0, 1, 0, 0], [0, 0, 1, 0], [0, 0, 0, 1], [1, 0, 0, 0]],\n",
       " [[1, 0, 0, 0], [0, 1, 0, 0], [0, 0, 1, 0], [0, 0, 0, 1]],\n",
       " [[0, 0, 0, 1], [0, 1, 0, 0], [0, 0, 1, 0], [1, 0, 0, 0]]]"
      ]
     },
     "execution_count": 309,
     "metadata": {},
     "output_type": "execute_result"
    }
   ],
   "source": [
    "def replicate(population, mutation_chance):\n",
    "    newPopulation = []\n",
    "\n",
    "    for pop in population:\n",
    "        newPopulation.append(mutation_with_chance(pop, mutation_chance))\n",
    "\n",
    "    return newPopulation\n",
    "\n",
    "replicate(_population, MUTATION_CHANCE)"
   ]
  },
  {
   "cell_type": "markdown",
   "id": "616dbe98-22ac-4a89-8f75-00ba12c44a5d",
   "metadata": {},
   "source": [
    "### definir fitness function\n",
    "\n",
    "mirar diagonals i treure repetides"
   ]
  },
  {
   "cell_type": "code",
   "execution_count": 354,
   "id": "66163304-e8d5-4c87-ae68-e3c62505f93b",
   "metadata": {},
   "outputs": [
    {
     "name": "stdout",
     "output_type": "stream",
     "text": [
      "[0, 1, 1, 0]\n",
      "[0, 1, 1, 1]\n",
      "[0, 0, 0, 1]\n",
      "[1, 0, 0, 0]\n",
      "2 0\n",
      "1 1\n",
      "0 -1\n",
      "2 0\n",
      "1 1\n",
      "2 0\n",
      "0 -1\n",
      "[]\n"
     ]
    }
   ],
   "source": [
    "def fitness_agent(agent):\n",
    "    result = []\n",
    "\n",
    "    # myCustomAgentSumRows = [sum(e) for e in myCustomAgent]\n",
    "    # myCustomAgentSumRowElements = [e for e in myCustomAgentSumRows if e > 1]\n",
    "    # myCustomAgentSumRowColisions = sum(myCustomAgentSumRowElements) - len(myCustomAgentSumRowElements)\n",
    "\n",
    "    for index, i in enumerate(agent):\n",
    "        print(i)\n",
    "\n",
    "    for indexRow, row in enumerate(agent):\n",
    "        for indexCol, i in enumerate(row):\n",
    "            # Avoid 0\n",
    "            if agent[indexRow][indexCol] != 1:\n",
    "                continue\n",
    "\n",
    "            # TODO: sum colisions in columns and rows. Ignored now, init_agent avoid this\n",
    "\n",
    "            # Sum colisions in diagonal\n",
    "            colisionsR = 0\n",
    "            colisionsL = 0\n",
    "            npArray = np.array(agent)\n",
    "            positionInFirst = indexCol - indexRow\n",
    "\n",
    "            colisionsR = sum(npArray.diagonal(positionInFirst)) - 1\n",
    "            colisionsL = sum(npArray[:, ::-1].diagonal(len(agent) - positionInFirst - 1)) - 1\n",
    "\n",
    "            print(colisionsR, colisionsL)\n",
    "            # result.append(colisionsR + colisionsL)\n",
    "\n",
    "    return result\n",
    "\n",
    "def fitness_population(population):\n",
    "    pass\n",
    "\n",
    "\n",
    "myCustomAgent = [0, 1, 1, 0], [0, 1, 1, 1], [0, 0, 0, 1], [1, 0, 0, 0]\n",
    "\n",
    "print(fitness_agent(myCustomAgent))\n",
    "# print(_agent)\n",
    "# assert fitness_agent(_agent) <= BOARD_SIZE"
   ]
  },
  {
   "cell_type": "markdown",
   "id": "56c5cdb9-8643-4977-ae24-ad7d0803b5ee",
   "metadata": {},
   "source": [
    "### Population Selection (by score)\n"
   ]
  },
  {
   "cell_type": "code",
   "execution_count": null,
   "id": "7546660e-f015-4d28-afc2-d0b8f18ec13b",
   "metadata": {},
   "outputs": [],
   "source": [
    "def sort_population(population, fitness_list):\n",
    "    pass\n",
    "\n",
    "def select_population(population, fitness_list, population_size):\n",
    "    pass\n",
    "\n"
   ]
  },
  {
   "cell_type": "markdown",
   "id": "625d470e-2ff7-4b13-aa11-2b2d7bf6ad03",
   "metadata": {},
   "source": [
    "### definir main\n",
    "\n",
    "(seguir els pasos de classe)"
   ]
  },
  {
   "cell_type": "code",
   "execution_count": 19,
   "id": "8923523c-03a6-4390-9892-8823c4368754",
   "metadata": {},
   "outputs": [],
   "source": [
    "def main():\n",
    "    # init\n",
    "    \n",
    "    # while\n",
    "        # replicate\n",
    "        # fitness\n",
    "        # sort + select\n",
    "        # new gen\n",
    "        \n",
    "    pass"
   ]
  },
  {
   "cell_type": "markdown",
   "id": "59e2b56a-9ff9-44cb-a484-146b76ffaf1f",
   "metadata": {},
   "source": [
    "### Provar el codi"
   ]
  },
  {
   "cell_type": "code",
   "execution_count": null,
   "id": "5a89a6d1-22ff-43f4-ae92-6cbf19746e73",
   "metadata": {},
   "outputs": [],
   "source": [
    "POPULATION_SIZE = 100\n",
    "BOARD_SIZE = 20\n",
    "MUTATION_CHANCE = 0.1\n",
    "\n",
    "agent = main(POPULATION_SIZE, BOARD_SIZE, MUTATION_CHANCE)\n",
    "display_agent(agent)"
   ]
  }
 ],
 "metadata": {
  "kernelspec": {
   "display_name": "Python 3 (ipykernel)",
   "language": "python",
   "name": "python3"
  },
  "language_info": {
   "codemirror_mode": {
    "name": "ipython",
    "version": 3
   },
   "file_extension": ".py",
   "mimetype": "text/x-python",
   "name": "python",
   "nbconvert_exporter": "python",
   "pygments_lexer": "ipython3",
   "version": "3.10.12"
  }
 },
 "nbformat": 4,
 "nbformat_minor": 5
}
