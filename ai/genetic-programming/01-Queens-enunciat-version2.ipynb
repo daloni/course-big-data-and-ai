{
 "cells": [
  {
   "cell_type": "markdown",
   "id": "8448f564-35e1-4400-8e1c-d99735ca6749",
   "metadata": {},
   "source": [
    "# Queens Problem\n",
    "\n",
    "### importem llibreries que utilitzarem i definim variables globals\n"
   ]
  },
  {
   "cell_type": "code",
   "execution_count": 2,
   "id": "7e71e39a-7d45-4d5c-a219-6ca99dec4cf1",
   "metadata": {},
   "outputs": [],
   "source": [
    "import numpy as np\n",
    "import random\n",
    "\n",
    "INITIAL_POPULATION = 10\n",
    "BOARD_SIZE = 8\n",
    "MUTATION_CHANCE = 0.1"
   ]
  },
  {
   "cell_type": "markdown",
   "id": "10fb9abc-bf8b-495f-acd2-7373b54171d2",
   "metadata": {},
   "source": [
    "### Definir Agent, població i display"
   ]
  },
  {
   "cell_type": "code",
   "execution_count": 127,
   "id": "4a5d0158-eda9-4551-b13c-568e09fdfcc4",
   "metadata": {},
   "outputs": [
    {
     "name": "stdout",
     "output_type": "stream",
     "text": [
      "[1, 0, 0, 0, 0, 0, 0, 0]\n",
      "[0, 0, 0, 0, 0, 1, 0, 0]\n",
      "[0, 1, 0, 0, 0, 0, 0, 0]\n",
      "[0, 0, 1, 0, 0, 0, 0, 0]\n",
      "[0, 0, 0, 0, 1, 0, 0, 0]\n",
      "[0, 0, 0, 1, 0, 0, 0, 0]\n",
      "[0, 0, 0, 0, 0, 0, 0, 1]\n",
      "[0, 0, 0, 0, 0, 0, 1, 0]\n"
     ]
    }
   ],
   "source": [
    "def init_agent(board_size):\n",
    "    board = []\n",
    "    pickedPositions = [y for y in range(0, board_size)]\n",
    "\n",
    "    for i in range(board_size):\n",
    "        choice = random.choice(pickedPositions)\n",
    "        pickedPositions.remove(choice)\n",
    "        board.append(choice)\n",
    "\n",
    "    return board\n",
    "\n",
    "def display_agent(agent):\n",
    "    for queenPosition in agent:\n",
    "        result = []\n",
    "\n",
    "        for el in range(len(agent)):\n",
    "            result.append(1 if el == queenPosition else 0)\n",
    "\n",
    "        print(result)\n",
    "\n",
    "def init_population(initial_population_size, board_size):\n",
    "    return [init_agent(board_size) for _ in range(initial_population_size)]\n",
    "\n",
    "\n",
    "_population = init_population(INITIAL_POPULATION, BOARD_SIZE)\n",
    "_agent = _population[0]\n",
    "assert BOARD_SIZE == len(_agent)\n",
    "assert INITIAL_POPULATION == len(_population)\n",
    "display_agent(_agent)\n",
    "# assert BOARD_SIZE*BOARD_SIZE == len(display_agent(_agent))"
   ]
  },
  {
   "cell_type": "markdown",
   "id": "bea5aa31-863f-49b2-b04a-30c1cf3b6ed7",
   "metadata": {},
   "source": [
    "### definir crossover"
   ]
  },
  {
   "cell_type": "code",
   "execution_count": 154,
   "id": "2ced517d-25bd-48b9-9ca0-ef06c5a0634c",
   "metadata": {},
   "outputs": [
    {
     "name": "stdout",
     "output_type": "stream",
     "text": [
      "[0, 5, 1, 2, 4, 3, 7, 6]\n",
      "[4, 7, 6, 0, 5, 1, 3, 2]\n",
      "[4, 7, 6, 0, 5, 1, 3, 2]\n"
     ]
    }
   ],
   "source": [
    "def crossover(parent1, parent2):\n",
    "    crossover_point = random.randint(0, len(parent1))\n",
    "    child = parent1[:crossover_point] + parent2[crossover_point:]\n",
    "    return child\n",
    "\n",
    "child = crossover(_population[0], _population[1])\n",
    "print(_population[0])\n",
    "print(_population[1])\n",
    "print(child)"
   ]
  },
  {
   "cell_type": "markdown",
   "id": "35d86c53-bc6e-4241-98a7-2c45a4729c39",
   "metadata": {},
   "source": [
    "### definir mutació\n"
   ]
  },
  {
   "cell_type": "code",
   "execution_count": 167,
   "id": "aa4e906a-bc48-474f-9420-ad4e5f35cd95",
   "metadata": {},
   "outputs": [
    {
     "name": "stdout",
     "output_type": "stream",
     "text": [
      "[0, 5, 1, 2, 4, 3, 6, 7]\n",
      "[0, 5, 1, 2, 4, 3, 7, 6]\n"
     ]
    }
   ],
   "source": [
    "def mutation(agent):\n",
    "    newAgent = agent.copy()\n",
    "    pos1, pos2 = random.sample(range(len(newAgent)), 2)\n",
    "    newAgent[pos1], newAgent[pos2] = newAgent[pos2], newAgent[pos1]\n",
    "    return newAgent\n",
    "\n",
    "def mutation_with_chance(agent, mutation_chance):\n",
    "    hasMutation = random.randrange(100) <= (mutation_chance * 100)\n",
    "\n",
    "    if not hasMutation:\n",
    "        return agent\n",
    "\n",
    "    return mutation(agent)\n",
    "\n",
    "print(mutation_with_chance(_agent, 1))\n",
    "print(_agent)"
   ]
  },
  {
   "cell_type": "markdown",
   "id": "1eb0be7a-7aa3-42f2-83f9-b724cd88ec75",
   "metadata": {},
   "source": [
    "### definir crossover de tota la població amb mutació"
   ]
  },
  {
   "cell_type": "code",
   "execution_count": 194,
   "id": "36de1291-096a-4204-ae97-802a8574d4a1",
   "metadata": {},
   "outputs": [
    {
     "name": "stdout",
     "output_type": "stream",
     "text": [
      "[0, 6, 4, 3, 5, 1, 2, 7]\n",
      "[0, 6, 4, 3, 5, 1, 2, 7]\n",
      "[0, 6, 4, 3, 5, 1, 2, 7]\n",
      "[7, 3, 0, 6, 4, 1, 5, 2]\n",
      "[6, 7, 4, 3, 5, 1, 2, 0]\n",
      "[0, 5, 1, 2, 4, 3, 7, 6]\n",
      "[4, 7, 6, 0, 5, 1, 3, 2]\n",
      "[4, 7, 6, 0, 5, 1, 3, 2]\n",
      "[6, 1, 5, 3, 7, 4, 2, 0]\n",
      "[4, 7, 6, 0, 5, 1, 3, 2]\n"
     ]
    }
   ],
   "source": [
    "def replicate(population, mutation_chance):\n",
    "    newPopulation = []\n",
    "\n",
    "    for _ in range(len(population)):\n",
    "        tournament = random.sample(population, 2)\n",
    "        print(max(tournament, key=lambda x: x[1]))\n",
    "\n",
    "replicate(_population, MUTATION_CHANCE)\n"
   ]
  },
  {
   "cell_type": "markdown",
   "id": "616dbe98-22ac-4a89-8f75-00ba12c44a5d",
   "metadata": {},
   "source": [
    "### definir fitness function\n",
    "\n",
    "mirar diagonals i treure repetides"
   ]
  },
  {
   "cell_type": "code",
   "execution_count": 116,
   "id": "66163304-e8d5-4c87-ae68-e3c62505f93b",
   "metadata": {},
   "outputs": [
    {
     "name": "stdout",
     "output_type": "stream",
     "text": [
      "[0, 1, 0, 0, 0, 0, 0]\n",
      "[0, 0, 0, 0, 0, 0, 0]\n",
      "[0, 0, 0, 0, 0, 1, 0]\n",
      "[1, 0, 0, 0, 0, 0, 0]\n",
      "[0, 0, 0, 0, 0, 0, 1]\n",
      "[0, 0, 0, 1, 0, 0, 0]\n",
      "[0, 0, 0, 0, 1, 0, 0]\n",
      "[0, 0, 1, 0, 0, 0, 0]\n",
      "3\n"
     ]
    }
   ],
   "source": [
    "def fitness_agent(agent):\n",
    "    conflicts = 0\n",
    "    for i in range(len(agent)):\n",
    "        for j in range(i + 1, len(agent)):\n",
    "            if abs(agent[i] - agent[j]) == j - i:\n",
    "                conflicts += 1\n",
    "    return conflicts\n",
    "\n",
    "def fitness_population(population):\n",
    "    pass\n",
    "\n",
    "display_agent(_agent)\n",
    "print(fitness_agent(_agent))\n",
    "assert fitness_agent(_agent) <= BOARD_SIZE"
   ]
  },
  {
   "cell_type": "markdown",
   "id": "56c5cdb9-8643-4977-ae24-ad7d0803b5ee",
   "metadata": {},
   "source": [
    "### Population Selection (by score)\n"
   ]
  },
  {
   "cell_type": "code",
   "execution_count": null,
   "id": "7546660e-f015-4d28-afc2-d0b8f18ec13b",
   "metadata": {},
   "outputs": [],
   "source": [
    "def sort_population(population, fitness_list):\n",
    "    pass\n",
    "\n",
    "def select_population(population, fitness_list, population_size):\n",
    "    pass\n",
    "\n"
   ]
  },
  {
   "cell_type": "markdown",
   "id": "625d470e-2ff7-4b13-aa11-2b2d7bf6ad03",
   "metadata": {},
   "source": [
    "### definir main\n",
    "\n",
    "(seguir els pasos de classe)"
   ]
  },
  {
   "cell_type": "code",
   "execution_count": 19,
   "id": "8923523c-03a6-4390-9892-8823c4368754",
   "metadata": {},
   "outputs": [],
   "source": [
    "def main():\n",
    "    # init\n",
    "    \n",
    "    # while\n",
    "        # replicate\n",
    "        # fitness\n",
    "        # sort + select\n",
    "        # new gen\n",
    "        \n",
    "    pass"
   ]
  },
  {
   "cell_type": "markdown",
   "id": "59e2b56a-9ff9-44cb-a484-146b76ffaf1f",
   "metadata": {},
   "source": [
    "### Provar el codi"
   ]
  },
  {
   "cell_type": "code",
   "execution_count": null,
   "id": "5a89a6d1-22ff-43f4-ae92-6cbf19746e73",
   "metadata": {},
   "outputs": [],
   "source": [
    "POPULATION_SIZE = 100\n",
    "BOARD_SIZE = 20\n",
    "MUTATION_CHANCE = 0.1\n",
    "\n",
    "agent = main(POPULATION_SIZE, BOARD_SIZE, MUTATION_CHANCE)\n",
    "display_agent(agent)"
   ]
  }
 ],
 "metadata": {
  "kernelspec": {
   "display_name": "Python 3 (ipykernel)",
   "language": "python",
   "name": "python3"
  },
  "language_info": {
   "codemirror_mode": {
    "name": "ipython",
    "version": 3
   },
   "file_extension": ".py",
   "mimetype": "text/x-python",
   "name": "python",
   "nbconvert_exporter": "python",
   "pygments_lexer": "ipython3",
   "version": "3.10.12"
  }
 },
 "nbformat": 4,
 "nbformat_minor": 5
}
